{
 "cells": [
  {
   "cell_type": "markdown",
   "metadata": {},
   "source": [
    "# Travail de NLP sur des décisions juridiques"
   ]
  },
  {
   "cell_type": "markdown",
   "metadata": {},
   "source": [
    "[Projet issu de ce lien :](https://challengedata.ens.fr/challenges/24)"
   ]
  },
  {
   "cell_type": "markdown",
   "metadata": {},
   "source": [
    "Import des librairies"
   ]
  },
  {
   "cell_type": "code",
   "execution_count": 1,
   "metadata": {
    "ExecuteTime": {
     "end_time": "2020-08-14T08:46:59.035640Z",
     "start_time": "2020-08-14T08:46:58.780295Z"
    }
   },
   "outputs": [],
   "source": [
    "import numpy as np\n",
    "import pandas as pd\n",
    "import os\n",
    "import re\n",
    "import codecs"
   ]
  },
  {
   "cell_type": "markdown",
   "metadata": {},
   "source": [
    "[Outil pour le Regex :](https://pythex.org/)"
   ]
  },
  {
   "cell_type": "code",
   "execution_count": 42,
   "metadata": {
    "ExecuteTime": {
     "end_time": "2020-08-14T10:36:13.670541Z",
     "start_time": "2020-08-14T10:36:13.659570Z"
    }
   },
   "outputs": [],
   "source": [
    "regex_date = \"([1]?[0-9]/[0-1][0-9]/[1-2][0-9]{3}|[1]?[0-9]-[0-1][0-9]-[1-2][0-9]{3})\"\n",
    "regex_date_litteral = \"([0-9]{1,2} *(janvier|f[e|é]vrier|mars|avril|mai|juin|juillet|ao[u|û]t|septembre|octobre|novembre|d[e|é]cembre) *[0-9]{2,4})\""
   ]
  },
  {
   "cell_type": "markdown",
   "metadata": {},
   "source": [
    "Définition des chemins d'accès"
   ]
  },
  {
   "cell_type": "code",
   "execution_count": 3,
   "metadata": {
    "ExecuteTime": {
     "end_time": "2020-08-14T08:46:59.065533Z",
     "start_time": "2020-08-14T08:46:59.051604Z"
    }
   },
   "outputs": [],
   "source": [
    "train_folder = \"train_folder_predilex/train_folder/\"\n",
    "test_folder = \"test_folder_predilex/test_folder/\"\n",
    "train_path = \"train_folder_predilex/train_folder/txt_files/\"\n",
    "test_path = \"test_folder_predilex/test_folder/txt_files/\""
   ]
  },
  {
   "cell_type": "markdown",
   "metadata": {},
   "source": [
    "Appel des .csv en DataFrame"
   ]
  },
  {
   "cell_type": "code",
   "execution_count": 4,
   "metadata": {
    "ExecuteTime": {
     "end_time": "2020-08-14T08:46:59.080521Z",
     "start_time": "2020-08-14T08:46:59.066531Z"
    }
   },
   "outputs": [],
   "source": [
    "df_train_y = pd.read_csv(\"y_train_predilex.csv\")\n",
    "df_train_x = pd.read_csv(\"train_folder_predilex/train_folder/x_train_ids.csv\")\n",
    "df_train = df_train_x.set_index('ID').join(df_train_y.set_index('ID'))\n",
    "#df_train.head()"
   ]
  },
  {
   "cell_type": "code",
   "execution_count": 5,
   "metadata": {
    "ExecuteTime": {
     "end_time": "2020-08-14T08:46:59.095453Z",
     "start_time": "2020-08-14T08:46:59.081518Z"
    }
   },
   "outputs": [],
   "source": [
    "df_test_y = pd.read_csv(\"y_test_pred.csv\")\n",
    "df_test_x = pd.read_csv(\"test_folder_predilex/test_folder/x_test_ids.csv\")\n",
    "df_test = df_test_x.set_index('ID').join(df_test_y.set_index('filename'))\n",
    "#df_test.head()"
   ]
  },
  {
   "cell_type": "markdown",
   "metadata": {},
   "source": [
    "Mise en place d'un filtre de lecture des fichiers texte"
   ]
  },
  {
   "cell_type": "code",
   "execution_count": 6,
   "metadata": {
    "ExecuteTime": {
     "end_time": "2020-08-14T08:46:59.110413Z",
     "start_time": "2020-08-14T08:46:59.096450Z"
    }
   },
   "outputs": [],
   "source": [
    "def read_properly(path,filename):\n",
    "    f = codecs.open(os.path.join(path,filename),\"r\",encoding='utf-8',errors=\"replace\")\n",
    "    return f.read().replace('\\xa0','').replace('\\n',' ').replace('’',' ')\\\n",
    "                 .replace(',',' ').replace('...','___').replace('.',' ')\\\n",
    "                 .replace(':',' ').replace('(',' ').replace(')',' ')"
   ]
  },
  {
   "cell_type": "markdown",
   "metadata": {},
   "source": [
    "Lecture des fichiers et ajout aux DataFrames respectifs"
   ]
  },
  {
   "cell_type": "code",
   "execution_count": 7,
   "metadata": {
    "ExecuteTime": {
     "end_time": "2020-08-14T08:46:59.267991Z",
     "start_time": "2020-08-14T08:46:59.111434Z"
    }
   },
   "outputs": [],
   "source": [
    "df_train['contenu'] = [read_properly(train_path,i) for i in df_train.filename]"
   ]
  },
  {
   "cell_type": "code",
   "execution_count": 8,
   "metadata": {
    "ExecuteTime": {
     "end_time": "2020-08-14T08:46:59.330119Z",
     "start_time": "2020-08-14T08:46:59.268988Z"
    }
   },
   "outputs": [],
   "source": [
    "df_test['contenu'] = [read_properly(test_path,i) for i in df_test.filename]"
   ]
  },
  {
   "cell_type": "markdown",
   "metadata": {},
   "source": [
    "Fonction pour avoir la fréquence d'un mot dans une chaîne de caractères (+ WIP sur Regex)"
   ]
  },
  {
   "cell_type": "code",
   "execution_count": 9,
   "metadata": {
    "ExecuteTime": {
     "end_time": "2020-08-14T08:46:59.346073Z",
     "start_time": "2020-08-14T08:46:59.331112Z"
    }
   },
   "outputs": [],
   "source": [
    "def frequency_word(text,word):\n",
    "    return sum(1 for i in text.split() if i.lower()==word)"
   ]
  },
  {
   "cell_type": "code",
   "execution_count": 10,
   "metadata": {
    "ExecuteTime": {
     "end_time": "2020-08-14T08:46:59.362054Z",
     "start_time": "2020-08-14T08:46:59.347070Z"
    }
   },
   "outputs": [],
   "source": [
    "def frequency_regex(text,regex):\n",
    "    return re.findall(regex,text)"
   ]
  },
  {
   "cell_type": "markdown",
   "metadata": {},
   "source": [
    "Recherche des mots de genre dans les textes respectifs"
   ]
  },
  {
   "cell_type": "code",
   "execution_count": 11,
   "metadata": {
    "ExecuteTime": {
     "end_time": "2020-08-14T08:47:01.304051Z",
     "start_time": "2020-08-14T08:46:59.363027Z"
    }
   },
   "outputs": [],
   "source": [
    "df_train['CC_elle']=[frequency_word(text,\"elle\") for text in df_train.contenu]\n",
    "df_train['CC_il']=[frequency_word(text,\"il\") for text in df_train.contenu]\n",
    "df_train['CC_madame']=[frequency_word(text,\"madame\") for text in df_train.contenu]\n",
    "df_train['CC_monsieur']=[frequency_word(text,\"monsieur\") for text in df_train.contenu]\n",
    "df_train['CC_mme']=[frequency_word(text,\"mme\") for text in df_train.contenu]\n",
    "df_train['CC_m']=[frequency_word(text,\"m\") for text in df_train.contenu]"
   ]
  },
  {
   "cell_type": "code",
   "execution_count": 12,
   "metadata": {
    "ExecuteTime": {
     "end_time": "2020-08-14T08:47:01.920952Z",
     "start_time": "2020-08-14T08:47:01.304961Z"
    }
   },
   "outputs": [],
   "source": [
    "df_test['CC_elle']=[frequency_word(text,\"elle\") for text in df_test.contenu]\n",
    "df_test['CC_il']=[frequency_word(text,\"il\") for text in df_test.contenu]\n",
    "df_test['CC_madame']=[frequency_word(text,\"madame\") for text in df_test.contenu]\n",
    "df_test['CC_monsieur']=[frequency_word(text,\"monsieur\") for text in df_test.contenu]\n",
    "df_test['CC_mme']=[frequency_word(text,\"mme\") for text in df_test.contenu]\n",
    "df_test['CC_m']=[frequency_word(text,\"m\") for text in df_test.contenu]"
   ]
  },
  {
   "cell_type": "markdown",
   "metadata": {},
   "source": [
    "Ajout des comptes de mots de même genre pour cumul total"
   ]
  },
  {
   "cell_type": "code",
   "execution_count": 13,
   "metadata": {
    "ExecuteTime": {
     "end_time": "2020-08-14T08:47:01.936890Z",
     "start_time": "2020-08-14T08:47:01.921948Z"
    }
   },
   "outputs": [],
   "source": [
    "df_train['Homme'] = df_train.CC_monsieur+df_train.CC_m+df_train.CC_il\n",
    "df_train['Femme'] = df_train.CC_madame+df_train.CC_mme+df_train.CC_elle"
   ]
  },
  {
   "cell_type": "code",
   "execution_count": 14,
   "metadata": {
    "ExecuteTime": {
     "end_time": "2020-08-14T08:47:01.952987Z",
     "start_time": "2020-08-14T08:47:01.937889Z"
    }
   },
   "outputs": [],
   "source": [
    "df_test['Homme'] = df_test.CC_monsieur+df_test.CC_m+df_test.CC_il\n",
    "df_test['Femme'] = df_test.CC_madame+df_test.CC_mme+df_test.CC_elle"
   ]
  },
  {
   "cell_type": "markdown",
   "metadata": {},
   "source": [
    "Détermination du genre prédominant dans le texte"
   ]
  },
  {
   "cell_type": "code",
   "execution_count": 15,
   "metadata": {
    "ExecuteTime": {
     "end_time": "2020-08-14T08:47:01.984945Z",
     "start_time": "2020-08-14T08:47:01.953984Z"
    }
   },
   "outputs": [],
   "source": [
    "df_train['Genre'] = ['homme' if df_train.Homme.tolist()[i]>df_train.Femme.tolist()[i] else\\\n",
    "                     'femme' if df_train.Homme.tolist()[i]<df_train.Femme.tolist()[i] else\\\n",
    "                     'neutre' for i in range(df_train.shape[0])]\n",
    "df_test['Genre'] = ['homme' if df_test.Homme.tolist()[i]>df_test.Femme.tolist()[i] else\\\n",
    "                     'femme' if df_test.Homme.tolist()[i]<df_test.Femme.tolist()[i] else\\\n",
    "                     'neutre' for i in range(df_test.shape[0])]"
   ]
  },
  {
   "cell_type": "markdown",
   "metadata": {},
   "source": [
    "Précision de cette NLP comparé à la réalité"
   ]
  },
  {
   "cell_type": "code",
   "execution_count": 18,
   "metadata": {
    "ExecuteTime": {
     "end_time": "2020-08-14T08:56:32.306019Z",
     "start_time": "2020-08-14T08:56:32.297064Z"
    }
   },
   "outputs": [
    {
     "data": {
      "text/plain": [
       "('Train', 89.74025974025975, 'Test', 64.59143968871595)"
      ]
     },
     "execution_count": 18,
     "metadata": {},
     "output_type": "execute_result"
    }
   ],
   "source": [
    "train_accuracy = np.sum(df_train.sexe==df_train.Genre)/df_train.shape[0]\n",
    "test_accuracy = np.sum(df_test.sexe==df_test.Genre)/df_test.shape[0]\n",
    "\"Train\",train_accuracy*100,\"Test\",test_accuracy*100"
   ]
  },
  {
   "cell_type": "code",
   "execution_count": 19,
   "metadata": {
    "ExecuteTime": {
     "end_time": "2020-08-14T10:16:19.860876Z",
     "start_time": "2020-08-14T10:16:19.848880Z"
    }
   },
   "outputs": [
    {
     "data": {
      "text/html": [
       "<div>\n",
       "<style scoped>\n",
       "    .dataframe tbody tr th:only-of-type {\n",
       "        vertical-align: middle;\n",
       "    }\n",
       "\n",
       "    .dataframe tbody tr th {\n",
       "        vertical-align: top;\n",
       "    }\n",
       "\n",
       "    .dataframe thead th {\n",
       "        text-align: right;\n",
       "    }\n",
       "</style>\n",
       "<table border=\"1\" class=\"dataframe\">\n",
       "  <thead>\n",
       "    <tr style=\"text-align: right;\">\n",
       "      <th></th>\n",
       "      <th>filename</th>\n",
       "      <th>sexe</th>\n",
       "      <th>date_accident</th>\n",
       "      <th>date_consolidation</th>\n",
       "      <th>contenu</th>\n",
       "      <th>CC_elle</th>\n",
       "      <th>CC_il</th>\n",
       "      <th>CC_madame</th>\n",
       "      <th>CC_monsieur</th>\n",
       "      <th>CC_mme</th>\n",
       "      <th>CC_m</th>\n",
       "      <th>Homme</th>\n",
       "      <th>Femme</th>\n",
       "      <th>Genre</th>\n",
       "    </tr>\n",
       "    <tr>\n",
       "      <th>ID</th>\n",
       "      <th></th>\n",
       "      <th></th>\n",
       "      <th></th>\n",
       "      <th></th>\n",
       "      <th></th>\n",
       "      <th></th>\n",
       "      <th></th>\n",
       "      <th></th>\n",
       "      <th></th>\n",
       "      <th></th>\n",
       "      <th></th>\n",
       "      <th></th>\n",
       "      <th></th>\n",
       "      <th></th>\n",
       "    </tr>\n",
       "  </thead>\n",
       "  <tbody>\n",
       "    <tr>\n",
       "      <th>0</th>\n",
       "      <td>Agen_100515.txt</td>\n",
       "      <td>homme</td>\n",
       "      <td>1991-04-09</td>\n",
       "      <td>n.c.</td>\n",
       "      <td>Le   12/11/2019   Cour d appel d Agen   chambr...</td>\n",
       "      <td>5</td>\n",
       "      <td>11</td>\n",
       "      <td>10</td>\n",
       "      <td>22</td>\n",
       "      <td>0</td>\n",
       "      <td>1</td>\n",
       "      <td>34</td>\n",
       "      <td>15</td>\n",
       "      <td>homme</td>\n",
       "    </tr>\n",
       "    <tr>\n",
       "      <th>1</th>\n",
       "      <td>Agen_1100752.txt</td>\n",
       "      <td>homme</td>\n",
       "      <td>2005-06-10</td>\n",
       "      <td>2010-01-19</td>\n",
       "      <td>Le   12/11/2019   Cour d appel d Agen   chambr...</td>\n",
       "      <td>3</td>\n",
       "      <td>60</td>\n",
       "      <td>9</td>\n",
       "      <td>65</td>\n",
       "      <td>0</td>\n",
       "      <td>0</td>\n",
       "      <td>125</td>\n",
       "      <td>12</td>\n",
       "      <td>homme</td>\n",
       "    </tr>\n",
       "    <tr>\n",
       "      <th>2</th>\n",
       "      <td>Agen_1613.txt</td>\n",
       "      <td>femme</td>\n",
       "      <td>1997-09-26</td>\n",
       "      <td>n.c.</td>\n",
       "      <td>Le   12/11/2019   Cour d appel d Agen   Audien...</td>\n",
       "      <td>24</td>\n",
       "      <td>3</td>\n",
       "      <td>16</td>\n",
       "      <td>3</td>\n",
       "      <td>0</td>\n",
       "      <td>0</td>\n",
       "      <td>6</td>\n",
       "      <td>40</td>\n",
       "      <td>femme</td>\n",
       "    </tr>\n",
       "    <tr>\n",
       "      <th>3</th>\n",
       "      <td>Agen_2118.txt</td>\n",
       "      <td>femme</td>\n",
       "      <td>1982-08-07</td>\n",
       "      <td>1982-11-07</td>\n",
       "      <td>Le   12/11/2019   Cour d appel d Agen   Audien...</td>\n",
       "      <td>11</td>\n",
       "      <td>16</td>\n",
       "      <td>1</td>\n",
       "      <td>2</td>\n",
       "      <td>0</td>\n",
       "      <td>1</td>\n",
       "      <td>19</td>\n",
       "      <td>12</td>\n",
       "      <td>homme</td>\n",
       "    </tr>\n",
       "    <tr>\n",
       "      <th>4</th>\n",
       "      <td>Agen_21229.txt</td>\n",
       "      <td>homme</td>\n",
       "      <td>1996-11-26</td>\n",
       "      <td>n.c.</td>\n",
       "      <td>Le   12/11/2019   Cour d appel d Agen   Audien...</td>\n",
       "      <td>1</td>\n",
       "      <td>32</td>\n",
       "      <td>1</td>\n",
       "      <td>1</td>\n",
       "      <td>0</td>\n",
       "      <td>32</td>\n",
       "      <td>65</td>\n",
       "      <td>2</td>\n",
       "      <td>homme</td>\n",
       "    </tr>\n",
       "  </tbody>\n",
       "</table>\n",
       "</div>"
      ],
      "text/plain": [
       "            filename   sexe date_accident date_consolidation  \\\n",
       "ID                                                             \n",
       "0    Agen_100515.txt  homme    1991-04-09               n.c.   \n",
       "1   Agen_1100752.txt  homme    2005-06-10         2010-01-19   \n",
       "2      Agen_1613.txt  femme    1997-09-26               n.c.   \n",
       "3      Agen_2118.txt  femme    1982-08-07         1982-11-07   \n",
       "4     Agen_21229.txt  homme    1996-11-26               n.c.   \n",
       "\n",
       "                                              contenu  CC_elle  CC_il  \\\n",
       "ID                                                                      \n",
       "0   Le   12/11/2019   Cour d appel d Agen   chambr...        5     11   \n",
       "1   Le   12/11/2019   Cour d appel d Agen   chambr...        3     60   \n",
       "2   Le   12/11/2019   Cour d appel d Agen   Audien...       24      3   \n",
       "3   Le   12/11/2019   Cour d appel d Agen   Audien...       11     16   \n",
       "4   Le   12/11/2019   Cour d appel d Agen   Audien...        1     32   \n",
       "\n",
       "    CC_madame  CC_monsieur  CC_mme  CC_m  Homme  Femme  Genre  \n",
       "ID                                                             \n",
       "0          10           22       0     1     34     15  homme  \n",
       "1           9           65       0     0    125     12  homme  \n",
       "2          16            3       0     0      6     40  femme  \n",
       "3           1            2       0     1     19     12  homme  \n",
       "4           1            1       0    32     65      2  homme  "
      ]
     },
     "execution_count": 19,
     "metadata": {},
     "output_type": "execute_result"
    }
   ],
   "source": [
    "df_train.head()"
   ]
  },
  {
   "cell_type": "code",
   "execution_count": 43,
   "metadata": {
    "ExecuteTime": {
     "end_time": "2020-08-14T10:36:18.533779Z",
     "start_time": "2020-08-14T10:36:18.518819Z"
    }
   },
   "outputs": [
    {
     "data": {
      "text/plain": [
       "([('20 août 2003', 'août'),\n",
       "  ('7 août 1982', 'août'),\n",
       "  ('7 mars 1995', 'mars'),\n",
       "  ('5 juillet 1985', 'juillet'),\n",
       "  ('13 octobre 1995', 'octobre'),\n",
       "  ('7 septembre 1999', 'septembre'),\n",
       "  ('5 juillet 1985', 'juillet'),\n",
       "  ('26 mars 1990', 'mars'),\n",
       "  ('24 janvier 1996', 'janvier'),\n",
       "  ('7 avril 1983', 'avril'),\n",
       "  ('5 juillet 1985', 'juillet'),\n",
       "  ('27 décembre 1990', 'décembre'),\n",
       "  ('7 août 1982', 'août'),\n",
       "  ('27 décembre 1990', 'décembre'),\n",
       "  ('7 août 1982', 'août'),\n",
       "  ('7 août 1982', 'août'),\n",
       "  ('7 novembre 1982', 'novembre'),\n",
       "  ('5 juillet 1985', 'juillet'),\n",
       "  ('7 avril 1983', 'avril'),\n",
       "  ('7 avril 1983', 'avril'),\n",
       "  ('5 juillet 1985', 'juillet')],\n",
       " ['12/11/2019'])"
      ]
     },
     "execution_count": 43,
     "metadata": {},
     "output_type": "execute_result"
    }
   ],
   "source": [
    "a = df_train.contenu.tolist()[3]\n",
    "frequency_regex(a,regex_date_litteral),frequency_regex(a,regex_date)"
   ]
  },
  {
   "cell_type": "raw",
   "metadata": {},
   "source": []
  }
 ],
 "metadata": {
  "kernelspec": {
   "display_name": "Python 3.7.5 64-bit",
   "language": "python",
   "name": "python37564bit18088624a39a401db8df2f5a44f5b7a9"
  },
  "language_info": {
   "codemirror_mode": {
    "name": "ipython",
    "version": 3
   },
   "file_extension": ".py",
   "mimetype": "text/x-python",
   "name": "python",
   "nbconvert_exporter": "python",
   "pygments_lexer": "ipython3",
   "version": "3.7.5"
  }
 },
 "nbformat": 4,
 "nbformat_minor": 4
}
