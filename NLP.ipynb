{
 "cells": [
  {
   "cell_type": "code",
   "execution_count": 63,
   "metadata": {
    "ExecuteTime": {
     "end_time": "2020-08-13T14:54:52.177168Z",
     "start_time": "2020-08-13T14:54:52.174182Z"
    }
   },
   "outputs": [],
   "source": [
    "import numpy as np\n",
    "import pandas as pd\n",
    "import os\n",
    "import re"
   ]
  },
  {
   "cell_type": "markdown",
   "metadata": {},
   "source": [
    "[Outil pour le Regex :](https://pythex.org/)"
   ]
  },
  {
   "cell_type": "code",
   "execution_count": 75,
   "metadata": {
    "ExecuteTime": {
     "end_time": "2020-08-13T15:14:16.160124Z",
     "start_time": "2020-08-13T15:14:16.157125Z"
    }
   },
   "outputs": [],
   "source": [
    "regex_date = \"(../../....|..-..-....)\"\n",
    "regex_date_litteral = \"([0-9]{1,2} *(janvier|f(e|é)vrier|mars|avril|mai|juin|juillet|ao(u|û)t|septembre|octobre|novembre|d(e|é)cembre) *[0-9]{2,4})\""
   ]
  },
  {
   "cell_type": "code",
   "execution_count": 20,
   "metadata": {
    "ExecuteTime": {
     "end_time": "2020-08-13T14:03:40.925239Z",
     "start_time": "2020-08-13T14:03:40.911167Z"
    }
   },
   "outputs": [],
   "source": [
    "train_folder = \"train_folder_predilex/train_folder/\"\n",
    "test_folder = \"test_folder_predilex/test_folder/\"\n",
    "train_path = \"train_folder_predilex/train_folder/txt_files/\"\n",
    "test_path = \"test_folder_predilex/test_folder/txt_files/\""
   ]
  },
  {
   "cell_type": "code",
   "execution_count": 22,
   "metadata": {
    "ExecuteTime": {
     "end_time": "2020-08-13T14:03:41.031183Z",
     "start_time": "2020-08-13T14:03:41.010195Z"
    }
   },
   "outputs": [
    {
     "data": {
      "text/html": [
       "<div>\n",
       "<style scoped>\n",
       "    .dataframe tbody tr th:only-of-type {\n",
       "        vertical-align: middle;\n",
       "    }\n",
       "\n",
       "    .dataframe tbody tr th {\n",
       "        vertical-align: top;\n",
       "    }\n",
       "\n",
       "    .dataframe thead th {\n",
       "        text-align: right;\n",
       "    }\n",
       "</style>\n",
       "<table border=\"1\" class=\"dataframe\">\n",
       "  <thead>\n",
       "    <tr style=\"text-align: right;\">\n",
       "      <th></th>\n",
       "      <th>filename</th>\n",
       "      <th>sexe</th>\n",
       "      <th>date_accident</th>\n",
       "      <th>date_consolidation</th>\n",
       "    </tr>\n",
       "    <tr>\n",
       "      <th>ID</th>\n",
       "      <th></th>\n",
       "      <th></th>\n",
       "      <th></th>\n",
       "      <th></th>\n",
       "    </tr>\n",
       "  </thead>\n",
       "  <tbody>\n",
       "    <tr>\n",
       "      <th>0</th>\n",
       "      <td>Agen_100515.txt</td>\n",
       "      <td>homme</td>\n",
       "      <td>1991-04-09</td>\n",
       "      <td>n.c.</td>\n",
       "    </tr>\n",
       "    <tr>\n",
       "      <th>1</th>\n",
       "      <td>Agen_1100752.txt</td>\n",
       "      <td>homme</td>\n",
       "      <td>2005-06-10</td>\n",
       "      <td>2010-01-19</td>\n",
       "    </tr>\n",
       "    <tr>\n",
       "      <th>2</th>\n",
       "      <td>Agen_1613.txt</td>\n",
       "      <td>femme</td>\n",
       "      <td>1997-09-26</td>\n",
       "      <td>n.c.</td>\n",
       "    </tr>\n",
       "    <tr>\n",
       "      <th>3</th>\n",
       "      <td>Agen_2118.txt</td>\n",
       "      <td>femme</td>\n",
       "      <td>1982-08-07</td>\n",
       "      <td>1982-11-07</td>\n",
       "    </tr>\n",
       "    <tr>\n",
       "      <th>4</th>\n",
       "      <td>Agen_21229.txt</td>\n",
       "      <td>homme</td>\n",
       "      <td>1996-11-26</td>\n",
       "      <td>n.c.</td>\n",
       "    </tr>\n",
       "  </tbody>\n",
       "</table>\n",
       "</div>"
      ],
      "text/plain": [
       "            filename   sexe date_accident date_consolidation\n",
       "ID                                                          \n",
       "0    Agen_100515.txt  homme    1991-04-09               n.c.\n",
       "1   Agen_1100752.txt  homme    2005-06-10         2010-01-19\n",
       "2      Agen_1613.txt  femme    1997-09-26               n.c.\n",
       "3      Agen_2118.txt  femme    1982-08-07         1982-11-07\n",
       "4     Agen_21229.txt  homme    1996-11-26               n.c."
      ]
     },
     "execution_count": 22,
     "metadata": {},
     "output_type": "execute_result"
    }
   ],
   "source": [
    "df_train_y = pd.read_csv(\"y_train_predilex.csv\")\n",
    "df_train_x = pd.read_csv(\"train_folder_predilex/train_folder/x_train_ids.csv\")\n",
    "df_train = df_train_x.set_index('ID').join(df_train_y.set_index('ID'))\n",
    "df_train.head()"
   ]
  },
  {
   "cell_type": "code",
   "execution_count": 23,
   "metadata": {
    "ExecuteTime": {
     "end_time": "2020-08-13T14:03:41.051170Z",
     "start_time": "2020-08-13T14:03:41.034182Z"
    }
   },
   "outputs": [],
   "source": [
    "df_test_y = pd.read_csv(\"y_test_pred.csv\")\n",
    "df_test_x = pd.read_csv(\"test_folder_predilex/test_folder/x_test_ids.csv\")\n",
    "df_test = df_test_x.set_index('ID').join(df_test_y.set_index('filename'))"
   ]
  },
  {
   "cell_type": "code",
   "execution_count": 24,
   "metadata": {
    "ExecuteTime": {
     "end_time": "2020-08-13T14:03:41.071177Z",
     "start_time": "2020-08-13T14:03:41.053171Z"
    }
   },
   "outputs": [],
   "source": [
    "def read_properly(path,filename):\n",
    "    f = open(os.path.join(path,filename),\"r\",encoding='utf-8')\n",
    "    return f.read().replace('\\xa0','').replace('\\n',' ').replace('’',' ')\\\n",
    "                 .replace(',',' ').replace('...','___').replace('.',' ')\\\n",
    "                 .replace(':',' ').replace('(',' ').replace(')',' ')"
   ]
  },
  {
   "cell_type": "code",
   "execution_count": 25,
   "metadata": {
    "ExecuteTime": {
     "end_time": "2020-08-13T14:03:41.374998Z",
     "start_time": "2020-08-13T14:03:41.073173Z"
    }
   },
   "outputs": [],
   "source": [
    "df_train['contenu'] = [read_properly(train_path,i) for i in df_train.filename]"
   ]
  },
  {
   "cell_type": "code",
   "execution_count": 26,
   "metadata": {
    "ExecuteTime": {
     "end_time": "2020-08-13T14:03:41.475939Z",
     "start_time": "2020-08-13T14:03:41.375996Z"
    }
   },
   "outputs": [],
   "source": [
    "df_test['contenu'] = [read_properly(test_path,i) for i in df_test.filename]"
   ]
  },
  {
   "cell_type": "code",
   "execution_count": 27,
   "metadata": {
    "ExecuteTime": {
     "end_time": "2020-08-13T14:03:41.481936Z",
     "start_time": "2020-08-13T14:03:41.476938Z"
    }
   },
   "outputs": [],
   "source": [
    "def frequency_word(text,word):\n",
    "    return sum(1 for i in text.split() if i.lower()==word)"
   ]
  },
  {
   "cell_type": "code",
   "execution_count": 74,
   "metadata": {
    "ExecuteTime": {
     "end_time": "2020-08-13T14:59:08.519916Z",
     "start_time": "2020-08-13T14:59:08.513905Z"
    }
   },
   "outputs": [
    {
     "data": {
      "text/plain": [
       "['19/02/1997', '05-07-1996']"
      ]
     },
     "execution_count": 74,
     "metadata": {},
     "output_type": "execute_result"
    }
   ],
   "source": [
    "def frequency_regex(text,regex):\n",
    "    return re.findall(regex,text)"
   ]
  },
  {
   "cell_type": "code",
   "execution_count": 28,
   "metadata": {
    "ExecuteTime": {
     "end_time": "2020-08-13T14:03:44.296332Z",
     "start_time": "2020-08-13T14:03:41.483934Z"
    }
   },
   "outputs": [],
   "source": [
    "df_train['CC_elle']=[frequency_word(text,\"elle\") for text in df_train.contenu]\n",
    "df_train['CC_il']=[frequency_word(text,\"il\") for text in df_train.contenu]\n",
    "df_train['CC_madame']=[frequency_word(text,\"madame\") for text in df_train.contenu]\n",
    "df_train['CC_monsieur']=[frequency_word(text,\"monsieur\") for text in df_train.contenu]\n",
    "df_train['CC_mme']=[frequency_word(text,\"mme\") for text in df_train.contenu]\n",
    "df_train['CC_m']=[frequency_word(text,\"m\") for text in df_train.contenu]"
   ]
  },
  {
   "cell_type": "code",
   "execution_count": 29,
   "metadata": {
    "ExecuteTime": {
     "end_time": "2020-08-13T14:03:45.156850Z",
     "start_time": "2020-08-13T14:03:44.297337Z"
    }
   },
   "outputs": [],
   "source": [
    "df_test['CC_elle']=[frequency_word(text,\"elle\") for text in df_test.contenu]\n",
    "df_test['CC_il']=[frequency_word(text,\"il\") for text in df_test.contenu]\n",
    "df_test['CC_madame']=[frequency_word(text,\"madame\") for text in df_test.contenu]\n",
    "df_test['CC_monsieur']=[frequency_word(text,\"monsieur\") for text in df_test.contenu]\n",
    "df_test['CC_mme']=[frequency_word(text,\"mme\") for text in df_test.contenu]\n",
    "df_test['CC_m']=[frequency_word(text,\"m\") for text in df_test.contenu]"
   ]
  },
  {
   "cell_type": "code",
   "execution_count": 57,
   "metadata": {
    "ExecuteTime": {
     "end_time": "2020-08-13T14:48:05.301717Z",
     "start_time": "2020-08-13T14:48:05.296718Z"
    }
   },
   "outputs": [],
   "source": [
    "df_train['Homme'] = df_train.CC_monsieur+df_train.CC_m+df_train.CC_il\n",
    "df_train['Femme'] = df_train.CC_madame+df_train.CC_mme+df_train.CC_elle"
   ]
  },
  {
   "cell_type": "code",
   "execution_count": 58,
   "metadata": {
    "ExecuteTime": {
     "end_time": "2020-08-13T14:48:05.624692Z",
     "start_time": "2020-08-13T14:48:05.619694Z"
    }
   },
   "outputs": [],
   "source": [
    "df_test['Homme'] = df_test.CC_monsieur+df_test.CC_m+df_test.CC_il\n",
    "df_test['Femme'] = df_test.CC_madame+df_test.CC_mme+df_test.CC_elle"
   ]
  },
  {
   "cell_type": "code",
   "execution_count": 59,
   "metadata": {
    "ExecuteTime": {
     "end_time": "2020-08-13T14:48:06.368850Z",
     "start_time": "2020-08-13T14:48:06.362852Z"
    }
   },
   "outputs": [
    {
     "name": "stdout",
     "output_type": "stream",
     "text": [
      "NEUTRE TROUVE\n",
      "NEUTRE TROUVE\n",
      "NEUTRE TROUVE\n"
     ]
    }
   ],
   "source": [
    "gender_list = []\n",
    "Homme = df_train.Homme.tolist()\n",
    "Femme = df_train.Femme.tolist()\n",
    "for i in range(len(Homme)):\n",
    "    if Homme[i]>Femme[i]:\n",
    "        gender_list.append('homme')\n",
    "    elif Femme[i]>Homme[i]:\n",
    "        gender_list.append('femme')\n",
    "    else:\n",
    "        gender_list.append('neutre')\n",
    "        print('NEUTRE TROUVE')\n",
    "\n",
    "df_train['Genre'] = gender_list"
   ]
  },
  {
   "cell_type": "code",
   "execution_count": 60,
   "metadata": {
    "ExecuteTime": {
     "end_time": "2020-08-13T14:48:06.960088Z",
     "start_time": "2020-08-13T14:48:06.954090Z"
    }
   },
   "outputs": [
    {
     "name": "stdout",
     "output_type": "stream",
     "text": [
      "NEUTRE TROUVE\n"
     ]
    }
   ],
   "source": [
    "gender_list = []\n",
    "Homme = df_test.Homme.tolist()\n",
    "Femme = df_test.Femme.tolist()\n",
    "for i in range(len(Homme)):\n",
    "    if Homme[i]>Femme[i]:\n",
    "        gender_list.append('homme')\n",
    "    elif Femme[i]>Homme[i]:\n",
    "        gender_list.append('femme')\n",
    "    else:\n",
    "        gender_list.append('neutre')\n",
    "        print('NEUTRE TROUVE')\n",
    "\n",
    "df_test['Genre'] = gender_list"
   ]
  },
  {
   "cell_type": "code",
   "execution_count": 61,
   "metadata": {
    "ExecuteTime": {
     "end_time": "2020-08-13T14:48:13.368321Z",
     "start_time": "2020-08-13T14:48:13.362308Z"
    }
   },
   "outputs": [
    {
     "data": {
      "text/plain": [
       "89.87012987012987"
      ]
     },
     "execution_count": 61,
     "metadata": {},
     "output_type": "execute_result"
    }
   ],
   "source": [
    "accuracy = np.sum(df_train.sexe==df_train.Genre)/df_train.shape[0]\n",
    "accuracy*100"
   ]
  },
  {
   "cell_type": "code",
   "execution_count": 62,
   "metadata": {
    "ExecuteTime": {
     "end_time": "2020-08-13T14:48:13.754301Z",
     "start_time": "2020-08-13T14:48:13.747306Z"
    }
   },
   "outputs": [
    {
     "data": {
      "text/plain": [
       "64.59143968871595"
      ]
     },
     "execution_count": 62,
     "metadata": {},
     "output_type": "execute_result"
    }
   ],
   "source": [
    "accuracy = np.sum(df_test.sexe==df_test.Genre)/df_test.shape[0]\n",
    "accuracy*100"
   ]
  },
  {
   "cell_type": "code",
   "execution_count": 77,
   "metadata": {
    "ExecuteTime": {
     "end_time": "2020-08-13T15:21:20.546393Z",
     "start_time": "2020-08-13T15:21:20.540396Z"
    }
   },
   "outputs": [
    {
     "data": {
      "text/plain": [
       "homme    559\n",
       "femme    206\n",
       "n.c.       5\n",
       "Name: sexe, dtype: int64"
      ]
     },
     "execution_count": 77,
     "metadata": {},
     "output_type": "execute_result"
    }
   ],
   "source": [
    "df_train.sexe.value_counts()"
   ]
  },
  {
   "cell_type": "code",
   "execution_count": 78,
   "metadata": {
    "ExecuteTime": {
     "end_time": "2020-08-13T15:21:28.335352Z",
     "start_time": "2020-08-13T15:21:28.328358Z"
    }
   },
   "outputs": [
    {
     "data": {
      "text/plain": [
       "homme    184\n",
       "femme     73\n",
       "Name: sexe, dtype: int64"
      ]
     },
     "execution_count": 78,
     "metadata": {},
     "output_type": "execute_result"
    }
   ],
   "source": [
    "df_test.sexe.value_counts()"
   ]
  },
  {
   "cell_type": "code",
   "execution_count": null,
   "metadata": {},
   "outputs": [],
   "source": []
  }
 ],
 "metadata": {
  "kernelspec": {
   "display_name": "Python 3.7.5 64-bit",
   "language": "python",
   "name": "python37564bit3a3ee49f54404a33b933719135399d37"
  },
  "language_info": {
   "codemirror_mode": {
    "name": "ipython",
    "version": 3
   },
   "file_extension": ".py",
   "mimetype": "text/x-python",
   "name": "python",
   "nbconvert_exporter": "python",
   "pygments_lexer": "ipython3",
   "version": "3.7.5"
  }
 },
 "nbformat": 4,
 "nbformat_minor": 4
}
